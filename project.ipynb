{
 "cells": [
  {
   "cell_type": "code",
   "execution_count": null,
   "id": "a6ed10f2-5384-4179-9289-91344a134f10",
   "metadata": {},
   "outputs": [],
   "source": [
    "import numpy as np \n",
    "import pandas as pd"
   ]
  },
  {
   "cell_type": "code",
   "execution_count": null,
   "id": "f5842619-a1e8-40ae-98f4-9ee600a73022",
   "metadata": {},
   "outputs": [],
   "source": [
    "True_news = pd.read_csv('True.csv')\n",
    "True_news"
   ]
  },
  {
   "cell_type": "code",
   "execution_count": null,
   "id": "e47b3e2d-cc5d-4d19-9b5e-8c0b9057bcd7",
   "metadata": {},
   "outputs": [],
   "source": [
    "Fake_news = pd.read_csv('Fake.csv')\n",
    "Fake_news"
   ]
  },
  {
   "cell_type": "code",
   "execution_count": null,
   "id": "09ce1251-0a74-4ffa-8358-dccd73019ca0",
   "metadata": {},
   "outputs": [],
   "source": [
    "True_news['label'] = 0\n",
    "Fake_news['label'] = 1"
   ]
  },
  {
   "cell_type": "code",
   "execution_count": null,
   "id": "82739e1f-0904-4e2a-a724-7839b0a86d13",
   "metadata": {},
   "outputs": [],
   "source": [
    "True_news"
   ]
  },
  {
   "cell_type": "code",
   "execution_count": null,
   "id": "6cedcc3c-414e-463b-a50c-51c499a2557d",
   "metadata": {},
   "outputs": [],
   "source": [
    "Fake_news"
   ]
  },
  {
   "cell_type": "code",
   "execution_count": null,
   "id": "adea66e6-480d-4e32-9712-6856362712c6",
   "metadata": {},
   "outputs": [],
   "source": [
    "dataset1 = True_news[['text', 'label']]\n",
    "dataset2 = Fake_news[['text', 'label']]"
   ]
  },
  {
   "cell_type": "code",
   "execution_count": null,
   "id": "a5bb603b-3bcd-43e8-ada6-624385edf8cf",
   "metadata": {},
   "outputs": [],
   "source": [
    "dataset1"
   ]
  },
  {
   "cell_type": "code",
   "execution_count": null,
   "id": "2e173521-291c-4103-b856-89363b14c216",
   "metadata": {},
   "outputs": [],
   "source": [
    "dataset2"
   ]
  },
  {
   "cell_type": "code",
   "execution_count": null,
   "id": "927dc0d8-ddc0-4137-8092-ed9aa9df82c7",
   "metadata": {},
   "outputs": [],
   "source": [
    "dataset = pd.concat(([dataset1 , dataset2]))\n",
    "dataset"
   ]
  },
  {
   "cell_type": "code",
   "execution_count": null,
   "id": "09765850-f5bd-4ac5-b794-e782e5a5c688",
   "metadata": {},
   "outputs": [],
   "source": [
    "dataset.shape"
   ]
  },
  {
   "cell_type": "code",
   "execution_count": null,
   "id": "17dc28ea-8454-4eb5-ae9d-39c218e2c3f1",
   "metadata": {},
   "outputs": [],
   "source": [
    "dataset.isnull().sum()"
   ]
  },
  {
   "cell_type": "code",
   "execution_count": null,
   "id": "238adf34-7978-46ff-abdd-e505d0cd6d59",
   "metadata": {},
   "outputs": [],
   "source": [
    "dataset['label'].value_counts()"
   ]
  },
  {
   "cell_type": "code",
   "execution_count": null,
   "id": "bb8a8579-77a9-441f-802f-62f9ae6b5aad",
   "metadata": {},
   "outputs": [],
   "source": [
    "dataset = dataset.sample(frac = 1)"
   ]
  },
  {
   "cell_type": "code",
   "execution_count": null,
   "id": "e3b2789f-629a-4e7b-8b32-20005bb53f0c",
   "metadata": {},
   "outputs": [],
   "source": [
    "dataset"
   ]
  },
  {
   "cell_type": "markdown",
   "id": "08cea335-6627-487c-ba81-af5fc03c5b79",
   "metadata": {},
   "source": [
    "NLP"
   ]
  },
  {
   "cell_type": "code",
   "execution_count": null,
   "id": "be603eb6-1776-48a0-97ab-3bcd27801fec",
   "metadata": {},
   "outputs": [],
   "source": [
    "import nltk\n",
    "import re\n",
    "from nltk.corpus import stopwords\n",
    "from nltk.stem import WordNetLemmatizer"
   ]
  },
  {
   "cell_type": "code",
   "execution_count": null,
   "id": "364e35b2-8424-4fb3-a39e-aa360eaaae8c",
   "metadata": {},
   "outputs": [],
   "source": [
    "nltk.download('stopwords')"
   ]
  },
  {
   "cell_type": "code",
   "execution_count": null,
   "id": "2de4001d-ae26-450e-82ba-c686fd083a2c",
   "metadata": {},
   "outputs": [],
   "source": [
    "nltk.download('wordnet')"
   ]
  },
  {
   "cell_type": "code",
   "execution_count": null,
   "id": "0a5a3229-a10c-429a-aa6d-d70f7b945cf9",
   "metadata": {},
   "outputs": [],
   "source": [
    "ps = WordNetLemmatizer()"
   ]
  },
  {
   "cell_type": "code",
   "execution_count": null,
   "id": "89549a28-5b6a-4eb3-95f9-e75389111454",
   "metadata": {},
   "outputs": [],
   "source": [
    "stopwords = stopwords.words('english')"
   ]
  },
  {
   "cell_type": "code",
   "execution_count": null,
   "id": "c43f83f4-0212-4fdc-8c54-69aca90d8046",
   "metadata": {},
   "outputs": [],
   "source": [
    "def clean_row(row):\n",
    "\n",
    "    row = row.lower()\n",
    "    row = re.sub('[^a-zA-Z]', ' ',row)\n",
    "    token = row.split()\n",
    "    news = [ps.lemmatize(word) for word in token if not word in stopwords]\n",
    "    cleanned_news = ' '.join(news)\n",
    "    return cleanned_news"
   ]
  },
  {
   "cell_type": "code",
   "execution_count": null,
   "id": "35c6fce0-9811-4e80-b821-d9e324a797b3",
   "metadata": {},
   "outputs": [],
   "source": [
    "dataset['text']"
   ]
  },
  {
   "cell_type": "code",
   "execution_count": null,
   "id": "be6a3fd1-84e3-40dd-9443-ae118405f573",
   "metadata": {},
   "outputs": [],
   "source": [
    "dataset['text'] = dataset['text'].apply(lambda x : clean_row(x))"
   ]
  },
  {
   "cell_type": "code",
   "execution_count": null,
   "id": "fd554f47-51f2-4578-8e5b-4f78471b0f23",
   "metadata": {},
   "outputs": [],
   "source": [
    "dataset['text']"
   ]
  },
  {
   "cell_type": "code",
   "execution_count": null,
   "id": "41296458-6726-4e13-875d-b6ea00459fff",
   "metadata": {},
   "outputs": [],
   "source": [
    "from sklearn.feature_extraction.text import TfidfVectorizer"
   ]
  },
  {
   "cell_type": "code",
   "execution_count": null,
   "id": "cba13af1-f423-4720-a32b-3df31e619e22",
   "metadata": {},
   "outputs": [],
   "source": [
    "vectorizer = TfidfVectorizer(max_features = 50000,lowercase = False,ngram_range = (1, 2))"
   ]
  },
  {
   "cell_type": "code",
   "execution_count": null,
   "id": "abf5e606-5dfd-4eaf-8bd3-71ad96402f98",
   "metadata": {},
   "outputs": [],
   "source": [
    "x = dataset.iloc[:35000,0]\n",
    "y = dataset.iloc[:35000,1]"
   ]
  },
  {
   "cell_type": "code",
   "execution_count": null,
   "id": "6ec10f79-155a-4fb8-89f3-8ea5048504db",
   "metadata": {},
   "outputs": [],
   "source": [
    "x"
   ]
  },
  {
   "cell_type": "code",
   "execution_count": null,
   "id": "7d751f9b-60a6-4792-b35a-a5287fe69a5a",
   "metadata": {},
   "outputs": [],
   "source": [
    "y"
   ]
  },
  {
   "cell_type": "code",
   "execution_count": null,
   "id": "04c02e23-347c-479a-984b-382677c48f6c",
   "metadata": {},
   "outputs": [],
   "source": [
    "from sklearn.model_selection import train_test_split"
   ]
  },
  {
   "cell_type": "code",
   "execution_count": null,
   "id": "e9f30596-9d3a-4491-ab44-8b9041aec4ec",
   "metadata": {},
   "outputs": [],
   "source": [
    "train_data,test_data,train_label,test_label = train_test_split(x,y,test_size = 0.2,random_state = 0)"
   ]
  },
  {
   "cell_type": "code",
   "execution_count": null,
   "id": "efe555fd-513f-4cc6-bd92-87967035424a",
   "metadata": {},
   "outputs": [],
   "source": [
    "vec_train_data = vectorizer.fit_transform(train_data)"
   ]
  },
  {
   "cell_type": "code",
   "execution_count": null,
   "id": "f0d8dc00-8638-4adf-ad3d-28a8387b651e",
   "metadata": {},
   "outputs": [],
   "source": [
    "vec_train_data = vec_train_data.toarray()"
   ]
  },
  {
   "cell_type": "code",
   "execution_count": null,
   "id": "8d2c12bb-a18c-4e40-b04c-ed66aa09109f",
   "metadata": {},
   "outputs": [],
   "source": [
    "vec_test_data = vectorizer.fit_transform(test_data)"
   ]
  },
  {
   "cell_type": "code",
   "execution_count": null,
   "id": "4364123e-caba-409a-8c4d-237399fb0650",
   "metadata": {},
   "outputs": [],
   "source": [
    "vec_test_data = vec_test_data.toarray()"
   ]
  },
  {
   "cell_type": "code",
   "execution_count": null,
   "id": "d428b2af-fb4e-496f-9b49-cb32fe5c277c",
   "metadata": {},
   "outputs": [],
   "source": [
    "vec_train_data.shape, vec_test_data.shape"
   ]
  },
  {
   "cell_type": "code",
   "execution_count": null,
   "id": "b1e936fb-a95f-4945-a5c8-682a5496df4d",
   "metadata": {},
   "outputs": [],
   "source": [
    "vec_train_data"
   ]
  },
  {
   "cell_type": "code",
   "execution_count": null,
   "id": "a3da8572-2ea2-4043-abc5-6a97035eab27",
   "metadata": {},
   "outputs": [],
   "source": [
    "training_data = pd.DataFrame(vec_train_data, columns = vectorizer.get_feature_names_out())\n",
    "testing_data = pd.DataFrame(vec_test_data, columns = vectorizer.get_feature_names_out())"
   ]
  },
  {
   "cell_type": "code",
   "execution_count": null,
   "id": "c47e570a-ba59-475c-bb1e-5db81add04ba",
   "metadata": {},
   "outputs": [],
   "source": [
    "training_data"
   ]
  },
  {
   "cell_type": "markdown",
   "id": "ef5a1557",
   "metadata": {},
   "source": [
    "Naive Bayes - MODEL"
   ]
  },
  {
   "cell_type": "code",
   "execution_count": null,
   "id": "0f4eef22-a32a-4abb-b9ad-ef25ec598abc",
   "metadata": {},
   "outputs": [],
   "source": [
    "from sklearn.naive_bayes import MultinomialNB"
   ]
  },
  {
   "cell_type": "code",
   "execution_count": null,
   "id": "c7f182d1-6959-421d-9d49-2aaa394fb81c",
   "metadata": {},
   "outputs": [],
   "source": [
    "clf = MultinomialNB()"
   ]
  },
  {
   "cell_type": "code",
   "execution_count": null,
   "id": "2ce403a5-5147-44c2-9a33-86efb35ac74c",
   "metadata": {},
   "outputs": [],
   "source": [
    "clf.fit(training_data,train_label)"
   ]
  },
  {
   "cell_type": "code",
   "execution_count": null,
   "id": "99cb1ce5-1966-4eb5-a2d5-205bec1bcc26",
   "metadata": {},
   "outputs": [],
   "source": [
    "y_pred = clf.predict(testing_data)"
   ]
  },
  {
   "cell_type": "code",
   "execution_count": null,
   "id": "cd26e36f-1f54-4cb2-a3ca-097022257ef5",
   "metadata": {},
   "outputs": [],
   "source": [
    "test_label"
   ]
  },
  {
   "cell_type": "code",
   "execution_count": null,
   "id": "56f3a18f",
   "metadata": {},
   "outputs": [],
   "source": [
    "y_pred"
   ]
  },
  {
   "cell_type": "code",
   "execution_count": null,
   "id": "a7e4bf7f",
   "metadata": {},
   "outputs": [],
   "source": [
    "from sklearn.metrics import accuracy_score"
   ]
  },
  {
   "cell_type": "code",
   "execution_count": null,
   "id": "ca74d92a",
   "metadata": {},
   "outputs": [],
   "source": [
    "accuracy_score(test_label,y_pred)"
   ]
  },
  {
   "cell_type": "code",
   "execution_count": null,
   "id": "4efedc29",
   "metadata": {},
   "outputs": [],
   "source": [
    "y_pred_train = clf.predict(training_data)"
   ]
  },
  {
   "cell_type": "code",
   "execution_count": null,
   "id": "35f6fe41",
   "metadata": {},
   "outputs": [],
   "source": [
    "accuracy_score(train_label,y_pred_train)"
   ]
  },
  {
   "cell_type": "markdown",
   "id": "46fa81cf",
   "metadata": {},
   "source": [
    "logistic Regrassion"
   ]
  },
  {
   "cell_type": "code",
   "execution_count": null,
   "id": "3ae80083",
   "metadata": {},
   "outputs": [],
   "source": [
    "from sklearn.linear_model import LogisticRegression"
   ]
  },
  {
   "cell_type": "code",
   "execution_count": null,
   "id": "7fbc235a",
   "metadata": {},
   "outputs": [],
   "source": [
    "clf = LogisticRegression()"
   ]
  },
  {
   "cell_type": "code",
   "execution_count": null,
   "id": "ad719af9",
   "metadata": {},
   "outputs": [],
   "source": [
    "clf.fit(training_data,train_label)"
   ]
  },
  {
   "cell_type": "code",
   "execution_count": null,
   "id": "9711b020",
   "metadata": {},
   "outputs": [],
   "source": [
    "y_pred = clf.predict(testing_data)"
   ]
  },
  {
   "cell_type": "code",
   "execution_count": null,
   "id": "5309b9a7",
   "metadata": {},
   "outputs": [],
   "source": [
    "test_label"
   ]
  },
  {
   "cell_type": "code",
   "execution_count": null,
   "id": "6089ea04",
   "metadata": {},
   "outputs": [],
   "source": [
    "y_pred"
   ]
  },
  {
   "cell_type": "code",
   "execution_count": null,
   "id": "7f379c1d",
   "metadata": {},
   "outputs": [],
   "source": [
    "from sklearn.metrics import accuracy_score"
   ]
  },
  {
   "cell_type": "code",
   "execution_count": null,
   "id": "2e495d90",
   "metadata": {},
   "outputs": [],
   "source": [
    "accuracy_score(test_label,y_pred)"
   ]
  },
  {
   "cell_type": "code",
   "execution_count": null,
   "id": "03aaa243",
   "metadata": {},
   "outputs": [],
   "source": [
    "y_pred_train = clf.predict(training_data)"
   ]
  },
  {
   "cell_type": "code",
   "execution_count": null,
   "id": "2585d710",
   "metadata": {},
   "outputs": [],
   "source": [
    "accuracy_score(train_label,y_pred_train)"
   ]
  },
  {
   "cell_type": "code",
   "execution_count": null,
   "id": "cebcf614",
   "metadata": {},
   "outputs": [],
   "source": [
    "txt = input(\"Enter News\")\n",
    "news = clean_row(str(txt))\n",
    "pred = clf.predict(vectorizer.transform([news]).toarray())\n",
    "\n",
    "if pred == 0:\n",
    "    print('News is Correct')\n",
    "else:\n",
    "    print('News is Fake')"
   ]
  },
  {
   "cell_type": "code",
   "execution_count": null,
   "id": "eefaf8c5",
   "metadata": {},
   "outputs": [],
   "source": []
  }
 ],
 "metadata": {
  "kernelspec": {
   "display_name": "Python 3 (ipykernel)",
   "language": "python",
   "name": "python3"
  },
  "language_info": {
   "codemirror_mode": {
    "name": "ipython",
    "version": 3
   },
   "file_extension": ".py",
   "mimetype": "text/x-python",
   "name": "python",
   "nbconvert_exporter": "python",
   "pygments_lexer": "ipython3",
   "version": "3.12.4"
  }
 },
 "nbformat": 4,
 "nbformat_minor": 5
}
